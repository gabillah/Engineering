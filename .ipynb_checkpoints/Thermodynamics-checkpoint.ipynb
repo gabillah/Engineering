{
 "cells": [
  {
   "cell_type": "markdown",
   "id": "ca8a93fe-a386-4fb2-a25c-889042502b63",
   "metadata": {},
   "source": [
    "* Wolfgang Nolting. 2017. Theoretical Physics 5: Thermodynamics. Switzerland: Springer. https://doi.org/10.1007/978-3-319-47910-1 .  \n",
    "\n",
    "$\n",
    "\\begin{array}{{>{\\displaystyle}l}}\n",
    "U=\\sum ( KE_{mic}) +\\sum ( PE_{mic})\\\\\n",
    "E=U+\\sum ( KE_{mac}) +\\sum ( PE_{mac})\\\\\n",
    "E=\\sum ( KE_{mic}) +\\sum ( PE_{mic}) +\\sum ( KE_{mac}) +\\sum ( PE_{mac})\\\\\n",
    "KE_{mic} \\equiv \\text{Microscopic kinetic energy.}\\\\\n",
    "PE_{mic} \\equiv \\text{Microscopic potential energy.}\\\\\n",
    "E\\equiv \\text{Energy.}\\\\\n",
    "KE_{mac} \\equiv \\text{Macroscopic kinetic energy.}\n",
    "\\end{array}\n",
    "$"
   ]
  },
  {
   "cell_type": "markdown",
   "id": "aea61b69-e3f2-466b-9f24-cd521a35a859",
   "metadata": {
    "tags": []
   },
   "source": [
    "# First Law of Thermodynamics"
   ]
  },
  {
   "cell_type": "markdown",
   "id": "93ade4ee-fb4d-4dc0-8a02-2ff9eeacebc4",
   "metadata": {
    "tags": []
   },
   "source": [
    "1. Isolated systems:\n",
    "$dU=0$\n",
    "\n",
    "2. Closed systems:\n",
    "$\n",
    "U=Q-W\\\\\n",
    "dU=\\delta Q-\\delta W\\\\\n",
    "dU=TdS-PdV\n",
    "$\n",
    "\n",
    "3. Open systems:\n",
    "$\n",
    "dU=\\delta Q+\\delta W+\\delta E_{C}\\\\\n",
    "dU=\\delta Q+\\delta W+\\sum\\limits _{i=1} \\mu _{i} dN_{i}\n",
    "$"
   ]
  },
  {
   "cell_type": "markdown",
   "id": "21b7bb10-d17e-4b8c-bb2a-f05d8e425ef2",
   "metadata": {
    "tags": []
   },
   "source": [
    "# Thermodynamics Potentials"
   ]
  },
  {
   "cell_type": "markdown",
   "id": "b2069d70-bc60-437a-a850-8334486e8dd2",
   "metadata": {
    "jp-MarkdownHeadingCollapsed": true,
    "tags": []
   },
   "source": [
    "* https://en.m.wikipedia.org/wiki/Thermodynamic_potential\n",
    "\n",
    "$\n",
    "\\displaystyle  \\begin{array}{{>{\\displaystyle}l}}\n",
    "\\begin{array}{|c|c|c|c|}\n",
    "\\hline\n",
    "\\text{Name} & \\text{Symbol} & \\text{Formula} & \\begin{array}{ c }\n",
    "\\text{Natural}\\\\\n",
    "\\text{variables}\n",
    "\\end{array}\\\\\n",
    "\\hline\n",
    "\\begin{array}{ l }\n",
    "\\text{Internal}\\\\\n",
    "\\text{energy}\n",
    "\\end{array} & U & \\begin{array}{ c }\n",
    "dU=TdS-PdV+\\sum\\limits _{i} \\mu _{i} dN_{i}\n",
    "\\end{array} & U( S,V,\\{N_{i}\\})\\\\\n",
    "\\hline\n",
    "\\begin{array}{ l }\n",
    "\\text{Helmholtz}\\\\\n",
    "\\text{free}\\\\\n",
    "\\text{energy}\n",
    "\\end{array} & F,A & \\begin{array}{ c }\n",
    "A=U-TS\\\\\n",
    "dA=-SdT-PdV+\\sum\\limits _{i} \\mu _{i} dN_{i}\n",
    "\\end{array} & \\begin{array}{ c }\n",
    "A( T,V,\\{N_{i}\\})\\\\\n",
    "A( T,q,N)\n",
    "\\end{array}\\\\\n",
    "\\hline\n",
    "\\text{Enthalpy} & H & \\begin{array}{ c }\n",
    "H=U+PV\\\\\n",
    "H=G-PV\\\\\n",
    "dH=TdS+VdP+\\sum\\limits _{i} \\mu _{i} dN_{i}\n",
    "\\end{array} & H( S,P,\\{N_{i}\\})\\\\\n",
    "\\hline\n",
    "\\begin{array}{ l }\n",
    "\\text{Gibbs}\\\\\n",
    "\\text{free}\\\\\n",
    "\\text{energy}\n",
    "\\end{array} & G & \\begin{array}{ c }\n",
    "G=U+PV-TS\\\\\n",
    "G=F+PV\\\\\n",
    "G=H-TS\\\\\n",
    "dG=-SdT+VdP+\\sum\\limits _{i} \\mu _{i} dN_{i}\n",
    "\\end{array} & G( T,P,\\{N_{i}\\})\\\\\n",
    "\\hline\n",
    "\\begin{array}{ l }\n",
    "\\text{Landau}\\\\\n",
    "\\text{potential}\\\\\n",
    "\\text{or}\\\\\n",
    "\\text{grand}\\\\\n",
    "\\text{potential}\n",
    "\\end{array} & \\Omega ,\\Phi _{G} & \\begin{array}{ c }\n",
    "\\Omega =U-TS-\\sum\\limits _{i} \\mu _{i} N_{i}\n",
    "\\end{array} & U( T,V,\\{\\mu _{i}\\})\\\\\n",
    "\\hline\n",
    "\\end{array}\\\\\n",
    "\\\\\n",
    "\\end{array}\n",
    "$\n"
   ]
  },
  {
   "cell_type": "markdown",
   "id": "8fa0df42-5529-4a1b-96c3-c0cf04fb993e",
   "metadata": {},
   "source": [
    "* https://en.m.wikipedia.org/wiki/Thermodynamic_potential\n",
    "\n",
    "$\n",
    "dU=TdS-PdV+\\sum\\limits _{i} \\mu _{i} dN_{i}\\\\\n",
    "dA=-SdT-PdV+\\sum\\limits _{i} \\mu _{i} dN_{i}\\\\\n",
    "dH=TdS+VdP+\\sum\\limits _{i} \\mu _{i} dN_{i}\\\\\n",
    "dG=-SdT+VdP+\\sum\\limits _{i} \\mu _{i} dN_{i}\n",
    "$"
   ]
  },
  {
   "cell_type": "markdown",
   "id": "26ec6e11-2dd9-4802-99d7-66eee080489c",
   "metadata": {},
   "source": [
    "* https://en.m.wikipedia.org/wiki/Thermodynamic_potential\n",
    "\n",
    "$\n",
    "\\displaystyle  \\begin{array}{{>{\\displaystyle}l}}\n",
    "d( PV) =dH-dU=dG-dA\\\\\n",
    "d( TS) =dU-dA=dH-dG\\\\\n",
    "\\\\\n",
    "\\begin{array}{ r l l }\n",
    "d( PV) & =dH-dU & =dG-dA\\\\\n",
    " & =TdS+VdP-TdS+PdV & =-SdT+VdP+SdT+PdV\\\\\n",
    " & =VdP+PdV & =VdP+PdV\\\\\n",
    " & =d( PV) & =d( PV)\n",
    "\\end{array}\\\\\n",
    "\\\\\n",
    "\\begin{array}{ r l l }\n",
    "d( TS) & =dU-dA & =dH-dG\\\\\n",
    " & =TdS-PdV+SdT+PdV & =TdS+VdP+SdT-VdP\\\\\n",
    " & =TdS+SdT & =TdS+SdT\\\\\n",
    " & =d( TS) & =d( TS)\n",
    "\\end{array}\n",
    "\\end{array}\n",
    "$"
   ]
  },
  {
   "cell_type": "markdown",
   "id": "f251d97f-6576-4cf1-a2ed-6fd42a31bb2e",
   "metadata": {
    "tags": []
   },
   "source": [
    "# Maxwell Relations"
   ]
  },
  {
   "cell_type": "markdown",
   "id": "39b12e6b-f2fd-415a-9230-4cc767b34a08",
   "metadata": {},
   "source": [
    "*  https://en.m.wikipedia.org/wiki/Maxwell_relations\n",
    "\n",
    "Rumus dasar relasi Maxwell:\n",
    "\n",
    "$\n",
    "\\displaystyle  \\begin{array}{{>{\\displaystyle}l}}\n",
    "dz=Mdx\\pm Ndy\\\\\n",
    "dz=\\left(\\dfrac{\\partial z}{\\partial x}\\right)_{y} dx+\\left(\\dfrac{\\partial z}{\\partial y}\\right)_{x} dy\n",
    "\\end{array}\n",
    "$\n",
    "\n",
    "\n",
    "Aplikasi relasi Maxwell:\n",
    "\n",
    "$\n",
    "\\displaystyle  \\begin{array}{{>{\\displaystyle}l}}\n",
    "dU=TdS-PdV+\\sum\\limits _{i=1} \\mu _{i} dN_{i}\\\\\n",
    "dU=\\left(\\dfrac{\\partial U}{\\partial S}\\right)_{V} dS+\\left(\\dfrac{\\partial U}{\\partial V}\\right)_{S} dV+\\sum\\limits _{i=1}\\left(\\dfrac{\\partial U}{\\partial N_{i}}\\right)_{S,V,\\{N_{j\\neq i}\\}} dN_{i}\\\\\n",
    "\\\\\n",
    "dA=-SdT-PdV+\\sum\\limits _{i=1} \\mu _{i} dN_{i}\\\\\n",
    "dA=\\left(\\dfrac{\\partial A}{\\partial T}\\right)_{V} dT+\\left(\\dfrac{\\partial A}{\\partial V}\\right)_{T} dV+\\sum\\limits _{i=1}\\left(\\dfrac{\\partial A}{\\partial N_{i}}\\right)_{S,V,\\{N_{j\\neq i}\\}} dN_{i}\\\\\n",
    "\\\\\n",
    "dH=TdS+VdP+\\sum\\limits _{i=1} \\mu _{i} dN_{i}\\\\\n",
    "dH=\\left(\\dfrac{\\partial H}{\\partial S}\\right)_{P} dS+\\left(\\dfrac{\\partial H}{\\partial P}\\right)_{S} dP+\\sum\\limits _{i=1}\\left(\\dfrac{\\partial H}{\\partial N_{i}}\\right)_{S,V,\\{N_{j\\neq i}\\}} dN_{i}\\\\\n",
    "\\\\\n",
    "dG=-SdT+VdP+\\sum\\limits _{i} \\mu _{i} dN_{i}\\\\\n",
    "dG=\\left(\\dfrac{\\partial G}{\\partial T}\\right)_{P} dT+\\left(\\dfrac{\\partial G}{\\partial P}\\right)_{T} dP+\\sum\\limits _{i=1}\\left(\\dfrac{\\partial G}{\\partial N_{i}}\\right)_{S,V,\\{N_{j\\neq i}\\}} dN_{i}\n",
    "\\end{array}\n",
    "$"
   ]
  },
  {
   "cell_type": "markdown",
   "id": "f63ff6b9-5dd7-4190-8f89-621ad56ed13e",
   "metadata": {},
   "source": [
    "* https://en.m.wikipedia.org/wiki/Thermodynamic_potential\n",
    "\n",
    "Hasil dari aplikasi Maxwell diatas didapatkan menjadi sebagai berikut:\n",
    "\n",
    "$\n",
    "\\displaystyle  \\begin{array}{{>{\\displaystyle}l}}\n",
    "+T=\\left(\\dfrac{\\partial U}{\\partial S}\\right)_{V} =\\left(\\dfrac{\\partial H}{\\partial S}\\right)_{P}\\\\\n",
    "-P=\\left(\\dfrac{\\partial U}{\\partial V}\\right)_{S} =\\left(\\dfrac{\\partial A}{\\partial V}\\right)_{T}\\\\\n",
    "+V=\\left(\\dfrac{\\partial H}{\\partial P}\\right)_{S} =\\left(\\dfrac{\\partial G}{\\partial P}\\right)_{T}\\\\\n",
    "-S=\\left(\\dfrac{\\partial G}{\\partial T}\\right)_{P} =\\left(\\dfrac{\\partial A}{\\partial T}\\right)_{V}\n",
    "\\end{array}\n",
    "$"
   ]
  },
  {
   "cell_type": "markdown",
   "id": "9cbe9849-c7c5-4230-a1b7-093fd98deb9a",
   "metadata": {
    "tags": []
   },
   "source": [
    "* https://en.m.wikipedia.org/wiki/Maxwell_relations\n",
    "\n",
    "\n",
    "$\n",
    "\\displaystyle \\dfrac{\\partial }{\\partial y}\\left(\\dfrac{\\partial z}{\\partial x}\\right)_{y} =\\dfrac{\\partial }{\\partial x}\\left(\\dfrac{\\partial z}{\\partial y}\\right)_{x} =\\dfrac{\\partial ^{2} z}{\\partial x\\partial y} =\\dfrac{\\partial ^{2} z}{\\partial y\\partial x} =\\dfrac{\\partial z}{\\partial y}\\left(\\dfrac{\\partial }{\\partial x}\\right)_{y} =\\dfrac{\\partial z}{\\partial x}\\left(\\dfrac{\\partial }{\\partial y}\\right)_{x}\n",
    "$"
   ]
  }
 ],
 "metadata": {
  "kernelspec": {
   "display_name": "Python 3 (ipykernel)",
   "language": "python",
   "name": "python3"
  },
  "language_info": {
   "codemirror_mode": {
    "name": "ipython",
    "version": 3
   },
   "file_extension": ".py",
   "mimetype": "text/x-python",
   "name": "python",
   "nbconvert_exporter": "python",
   "pygments_lexer": "ipython3",
   "version": "3.9.13"
  }
 },
 "nbformat": 4,
 "nbformat_minor": 5
}
